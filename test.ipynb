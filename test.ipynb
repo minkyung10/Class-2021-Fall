{
  "nbformat": 4,
  "nbformat_minor": 0,
  "metadata": {
    "colab": {
      "name": "test.ipynb",
      "provenance": [],
      "authorship_tag": "ABX9TyOxhFBnPv2NHo5CDOWVBI+I",
      "include_colab_link": true
    },
    "kernelspec": {
      "name": "python3",
      "display_name": "Python 3"
    },
    "language_info": {
      "name": "python"
    }
  },
  "cells": [
    {
      "cell_type": "markdown",
      "metadata": {
        "id": "view-in-github",
        "colab_type": "text"
      },
      "source": [
        "<a href=\"https://colab.research.google.com/github/minkyung10/class2021Fall/blob/main/test.ipynb\" target=\"_parent\"><img src=\"https://colab.research.google.com/assets/colab-badge.svg\" alt=\"Open In Colab\"/></a>"
      ]
    },
    {
      "cell_type": "markdown",
      "metadata": {
        "id": "IGaUgJWt-AHO"
      },
      "source": [
        "변수(variables), 제어문(syntax), 함수"
      ]
    },
    {
      "cell_type": "code",
      "metadata": {
        "colab": {
          "base_uri": "https://localhost:8080/"
        },
        "id": "ydiRqidvjarM",
        "outputId": "cacc6fe4-623a-4bc6-d195-abae8ef8ab6a"
      },
      "source": [
        "a = 1\n",
        "b = 1.1\n",
        "c = 'hello'\n",
        "d =[1, 'abc', 2.1]\n",
        "e = {\"apple\": \"red fruit\", \"banana\": \"yellow fruit\"}\n",
        "\n",
        "#print (a)\n",
        "#print (b)\n",
        "\n",
        "#print(type(a))\n",
        "#print(type(b))\n",
        "#print(type(c))\n",
        "#print(type(d))\n",
        "#print(type(e))\n",
        "\n",
        "\n",
        "print(d[1])\n",
        "print(d[1][1])\n",
        "print(e[\"apple\"])"
      ],
      "execution_count": 13,
      "outputs": [
        {
          "output_type": "stream",
          "name": "stdout",
          "text": [
            "abc\n",
            "b\n",
            "red fruit\n"
          ]
        }
      ]
    }
  ]
}